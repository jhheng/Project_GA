{
 "cells": [
  {
   "cell_type": "markdown",
   "metadata": {},
   "source": [
    "# Results from Google Big Query: HackerNews\n",
    "## https://bigquery.cloud.google.com/table/bigquery-public-data:hacker_news.full_201510\n",
    "## https://github.com/HackerNews/API for fields definition"
   ]
  },
  {
   "cell_type": "code",
   "execution_count": 1,
   "metadata": {
    "collapsed": false,
    "scrolled": true
   },
   "outputs": [
    {
     "name": "stdout",
     "output_type": "stream",
     "text": [
      "<class 'pandas.core.frame.DataFrame'>\n",
      "RangeIndex: 10000 entries, 0 to 9999\n",
      "Data columns (total 13 columns):\n",
      "by             10000 non-null object\n",
      "score          10000 non-null int64\n",
      "time           10000 non-null int64\n",
      "title          10000 non-null object\n",
      "type           10000 non-null object\n",
      "url            279 non-null object\n",
      "text           10000 non-null object\n",
      "parent         0 non-null float64\n",
      "deleted        0 non-null float64\n",
      "dead           1849 non-null object\n",
      "descendants    8151 non-null float64\n",
      "id             10000 non-null int64\n",
      "ranking        0 non-null float64\n",
      "dtypes: float64(4), int64(3), object(6)\n",
      "memory usage: 781.3+ KB\n"
     ]
    }
   ],
   "source": [
    "import pandas as pd\n",
    "\n",
    "df = pd.read_csv('/Users/jheng32/Desktop/GA/Project_GA/hn_story.csv')\n",
    "df.info()"
   ]
  },
  {
   "cell_type": "markdown",
   "metadata": {},
   "source": [
    "# Cleaning of Data"
   ]
  },
  {
   "cell_type": "code",
   "execution_count": 2,
   "metadata": {
    "collapsed": false
   },
   "outputs": [],
   "source": [
    "#deleted, ranking are all null. drop those columns.\n",
    "df.drop(['deleted', 'ranking','parent'], axis=1,inplace = True)\n",
    "\n",
    "#type and url are irrelevant to predict scores\n",
    "df.drop(['type', 'url'], axis = 1, inplace = True)\n",
    "\n",
    "#time is in unix, change it to mm/dd/yy hh:mm:ss \n",
    "df=df.set_index(pd.to_datetime(df['time'], unit='s'))\n",
    "\n",
    "#dead is boolean. those null = False. transform it to 1 and 0\n",
    "df['dead'].fillna(value=False, inplace  = True)\n",
    "df[['dead']]=df[['dead']].astype(int)\n",
    "\n",
    "#assume descendants null = 0\n",
    "df['descendants'].fillna(value =0, inplace =True)\n",
    " \n",
    "#get_dummies for type: job, poll, story\n",
    "#type_dum =pd.get_dummies(df['type'], drop_first =True)\n",
    "#df=pd.concat([df,type_dum], axis=1)\n",
    "#df = df.sort_index()\n",
    "\n",
    "#map each type to numeric\n",
    "#df['type_numeric']= df['type'].map({'job' :0,'story':1, 'poll':2})\n",
    "\n",
    "#add len of text to part of df\n",
    "df['text_length'] = df['text'].str.len()\n",
    "\n",
    "#len of title\n",
    "df['title_length'] = df['title'].str.len()\n",
    "\n",
    "#creating column for hour when story is posted\n",
    "df['post_hour'] = pd.DatetimeIndex(df.index).hour\n",
    "df['post_hour'].fillna(value = df['post_hour'].mean(), inplace = True)\n",
    "df['post_day'] = pd.DatetimeIndex(df.index).dayofweek #0 for monday\n",
    "df['post_day'].fillna(value = df['post_day'].mean(), inplace = True)\n",
    "\n",
    "#drop unix time\n",
    "df.drop(['time'],axis = 1, inplace = True)"
   ]
  },
  {
   "cell_type": "code",
   "execution_count": 3,
   "metadata": {
    "collapsed": false
   },
   "outputs": [
    {
     "data": {
      "text/html": [
       "<div>\n",
       "<table border=\"1\" class=\"dataframe\">\n",
       "  <thead>\n",
       "    <tr style=\"text-align: right;\">\n",
       "      <th></th>\n",
       "      <th>by</th>\n",
       "      <th>score</th>\n",
       "      <th>title</th>\n",
       "      <th>text</th>\n",
       "      <th>dead</th>\n",
       "      <th>descendants</th>\n",
       "      <th>id</th>\n",
       "      <th>text_length</th>\n",
       "      <th>title_length</th>\n",
       "      <th>post_hour</th>\n",
       "      <th>post_day</th>\n",
       "    </tr>\n",
       "    <tr>\n",
       "      <th>time</th>\n",
       "      <th></th>\n",
       "      <th></th>\n",
       "      <th></th>\n",
       "      <th></th>\n",
       "      <th></th>\n",
       "      <th></th>\n",
       "      <th></th>\n",
       "      <th></th>\n",
       "      <th></th>\n",
       "      <th></th>\n",
       "      <th></th>\n",
       "    </tr>\n",
       "  </thead>\n",
       "  <tbody>\n",
       "    <tr>\n",
       "      <th>2015-10-13 06:57:17</th>\n",
       "      <td>sliekasbekelniu</td>\n",
       "      <td>1</td>\n",
       "      <td>Ask HN: Could you recommend Computer basics co...</td>\n",
       "      <td>Hi, there HN community,&lt;p&gt;there are a lot of p...</td>\n",
       "      <td>0</td>\n",
       "      <td>0.0</td>\n",
       "      <td>10378921</td>\n",
       "      <td>617</td>\n",
       "      <td>52</td>\n",
       "      <td>6</td>\n",
       "      <td>1</td>\n",
       "    </tr>\n",
       "    <tr>\n",
       "      <th>2015-10-13 06:49:29</th>\n",
       "      <td>hn-growth</td>\n",
       "      <td>4</td>\n",
       "      <td>Ask HN: Can you shed some light on calculating...</td>\n",
       "      <td>I&amp;#x27;m looking for some help with growth rat...</td>\n",
       "      <td>0</td>\n",
       "      <td>0.0</td>\n",
       "      <td>10378901</td>\n",
       "      <td>1127</td>\n",
       "      <td>54</td>\n",
       "      <td>6</td>\n",
       "      <td>1</td>\n",
       "    </tr>\n",
       "    <tr>\n",
       "      <th>2015-10-13 04:49:37</th>\n",
       "      <td>throwaway321564</td>\n",
       "      <td>4</td>\n",
       "      <td>Ask HN: How to decide on Enterprise pricing</td>\n",
       "      <td>I have a saas app in the $12-$29&amp;#x2F;month  r...</td>\n",
       "      <td>0</td>\n",
       "      <td>2.0</td>\n",
       "      <td>10378603</td>\n",
       "      <td>504</td>\n",
       "      <td>43</td>\n",
       "      <td>4</td>\n",
       "      <td>1</td>\n",
       "    </tr>\n",
       "    <tr>\n",
       "      <th>2015-10-13 02:36:27</th>\n",
       "      <td>confImmigr</td>\n",
       "      <td>12</td>\n",
       "      <td>Ask HN: Is it okay to change jobs within a yea...</td>\n",
       "      <td>I&amp;#x27;m a software developer and I&amp;#x27;ve be...</td>\n",
       "      <td>0</td>\n",
       "      <td>6.0</td>\n",
       "      <td>10378252</td>\n",
       "      <td>749</td>\n",
       "      <td>60</td>\n",
       "      <td>2</td>\n",
       "      <td>1</td>\n",
       "    </tr>\n",
       "    <tr>\n",
       "      <th>2015-10-13 01:23:10</th>\n",
       "      <td>Oggle</td>\n",
       "      <td>2</td>\n",
       "      <td>Travel assistant on demand</td>\n",
       "      <td>What do you guys think of this? It&amp;#x27;s an i...</td>\n",
       "      <td>0</td>\n",
       "      <td>0.0</td>\n",
       "      <td>10377894</td>\n",
       "      <td>243</td>\n",
       "      <td>26</td>\n",
       "      <td>1</td>\n",
       "      <td>1</td>\n",
       "    </tr>\n",
       "  </tbody>\n",
       "</table>\n",
       "</div>"
      ],
      "text/plain": [
       "                                  by  score  \\\n",
       "time                                          \n",
       "2015-10-13 06:57:17  sliekasbekelniu      1   \n",
       "2015-10-13 06:49:29        hn-growth      4   \n",
       "2015-10-13 04:49:37  throwaway321564      4   \n",
       "2015-10-13 02:36:27       confImmigr     12   \n",
       "2015-10-13 01:23:10            Oggle      2   \n",
       "\n",
       "                                                                 title  \\\n",
       "time                                                                     \n",
       "2015-10-13 06:57:17  Ask HN: Could you recommend Computer basics co...   \n",
       "2015-10-13 06:49:29  Ask HN: Can you shed some light on calculating...   \n",
       "2015-10-13 04:49:37        Ask HN: How to decide on Enterprise pricing   \n",
       "2015-10-13 02:36:27  Ask HN: Is it okay to change jobs within a yea...   \n",
       "2015-10-13 01:23:10                         Travel assistant on demand   \n",
       "\n",
       "                                                                  text  dead  \\\n",
       "time                                                                           \n",
       "2015-10-13 06:57:17  Hi, there HN community,<p>there are a lot of p...     0   \n",
       "2015-10-13 06:49:29  I&#x27;m looking for some help with growth rat...     0   \n",
       "2015-10-13 04:49:37  I have a saas app in the $12-$29&#x2F;month  r...     0   \n",
       "2015-10-13 02:36:27  I&#x27;m a software developer and I&#x27;ve be...     0   \n",
       "2015-10-13 01:23:10  What do you guys think of this? It&#x27;s an i...     0   \n",
       "\n",
       "                     descendants        id  text_length  title_length  \\\n",
       "time                                                                    \n",
       "2015-10-13 06:57:17          0.0  10378921          617            52   \n",
       "2015-10-13 06:49:29          0.0  10378901         1127            54   \n",
       "2015-10-13 04:49:37          2.0  10378603          504            43   \n",
       "2015-10-13 02:36:27          6.0  10378252          749            60   \n",
       "2015-10-13 01:23:10          0.0  10377894          243            26   \n",
       "\n",
       "                     post_hour  post_day  \n",
       "time                                      \n",
       "2015-10-13 06:57:17          6         1  \n",
       "2015-10-13 06:49:29          6         1  \n",
       "2015-10-13 04:49:37          4         1  \n",
       "2015-10-13 02:36:27          2         1  \n",
       "2015-10-13 01:23:10          1         1  "
      ]
     },
     "execution_count": 3,
     "metadata": {},
     "output_type": "execute_result"
    }
   ],
   "source": [
    "df.head()"
   ]
  },
  {
   "cell_type": "markdown",
   "metadata": {},
   "source": [
    "# Visualisation"
   ]
  },
  {
   "cell_type": "code",
   "execution_count": 5,
   "metadata": {
    "collapsed": false
   },
   "outputs": [
    {
     "data": {
      "image/png": "[encoded data removed]",
      "text/plain": [
       "<matplotlib.figure.Figure at 0xaab2550>"
      ]
     },
     "metadata": {},
     "output_type": "display_data"
    }
   ],
   "source": [
    "%matplotlib inline\n",
    "import matplotlib.pyplot as plt\n",
    "\n",
    "#which Q period has the most hackernews - split by type\n",
    "bar_chart=df['id'].groupby(pd.TimeGrouper(\"W\")).count().plot(kind='bar', title='No. of Hackernews Stories per Quarter')\n",
    "bar_chart.x_label = 'Date'\n",
    "bar_chart.y_label = 'Quantity'\n",
    "fig = bar_chart.get_figure()\n",
    "fig.savefig('y.png')"
   ]
  },
  {
   "cell_type": "markdown",
   "metadata": {},
   "source": [
    "Ignore the first and last week. Since I limit it to 10000, it is likely that number of stories on the first week got cut and the last week might not have been updated at time of query."
   ]
  },
  {
   "cell_type": "code",
   "execution_count": 6,
   "metadata": {
    "collapsed": false
   },
   "outputs": [
    {
     "data": {
      "image/png": "[encoded data removed]",
      "text/plain": [
       "<matplotlib.figure.Figure at 0xacb3fd0>"
      ]
     },
     "metadata": {},
     "output_type": "display_data"
    }
   ],
   "source": [
    "#which hour have the highest score\n",
    "hour_chart = df['score'].groupby(df['post_hour']).mean().plot(kind ='line', title ='Average Score by hour')\n",
    "hour_chart.set_xlabel('Hours')\n",
    "hour_chart.set_ylabel('Score')\n",
    "fig3 = hour_chart.get_figure()\n",
    "fig3.savefig('score_hour_chart.png')"
   ]
  },
  {
   "cell_type": "code",
   "execution_count": 7,
   "metadata": {
    "collapsed": false
   },
   "outputs": [
    {
     "data": {
      "image/png": "[encoded data removed]",
      "text/plain": [
       "<matplotlib.figure.Figure at 0xac499d0>"
      ]
     },
     "metadata": {},
     "output_type": "display_data"
    }
   ],
   "source": [
    "#which hour have the most post \n",
    "hour_chart = df['id'].groupby(df['post_hour']).count().plot(kind ='line', title ='Stories by hour')\n",
    "hour_chart.set_xlabel('Hours')\n",
    "hour_chart.set_ylabel('Stories')\n",
    "fig3 = hour_chart.get_figure()\n",
    "fig3.savefig('stories_hour_chart.png')"
   ]
  },
  {
   "cell_type": "code",
   "execution_count": 8,
   "metadata": {
    "collapsed": false
   },
   "outputs": [
    {
     "data": {
      "image/png": "[encoded data removed]",
      "text/plain": [
       "<matplotlib.figure.Figure at 0xaf3c210>"
      ]
     },
     "metadata": {},
     "output_type": "display_data"
    }
   ],
   "source": [
    "#which day have the highest score\n",
    "day_chart = df['score'].groupby(df['post_day']).mean().plot(kind ='line', title ='Average Score by day')\n",
    "day_chart.set_xlabel('Day') #0 for monday\n",
    "day_chart.set_ylabel('Score')\n",
    "fig3 = day_chart.get_figure()\n",
    "fig3.savefig('score_day_chart.png')"
   ]
  },
  {
   "cell_type": "code",
   "execution_count": 9,
   "metadata": {
    "collapsed": false
   },
   "outputs": [
    {
     "data": {
      "image/png": "[encoded data removed]",
      "text/plain": [
       "<matplotlib.figure.Figure at 0xae69d50>"
      ]
     },
     "metadata": {},
     "output_type": "display_data"
    }
   ],
   "source": [
    "#which day have the most post \n",
    "day_chart = df['id'].groupby(df['post_day']).count().plot(kind ='line', title ='Stories by day')\n",
    "day_chart.set_xlabel('Day') #0 for monday\n",
    "day_chart.set_ylabel('Stories')\n",
    "fig3 = day_chart.get_figure()\n",
    "fig3.savefig('stories_day_chart.png')"
   ]
  },
  {
   "cell_type": "code",
   "execution_count": 35,
   "metadata": {
    "collapsed": false
   },
   "outputs": [
    {
     "data": {
      "text/plain": [
       "count    10000.000000\n",
       "mean         8.060200\n",
       "std         31.833836\n",
       "min          1.000000\n",
       "25%          1.000000\n",
       "50%          2.000000\n",
       "75%          4.000000\n",
       "max        847.000000\n",
       "Name: score, dtype: float64"
      ]
     },
     "execution_count": 35,
     "metadata": {},
     "output_type": "execute_result"
    }
   ],
   "source": [
    "df.score.describe()"
   ]
  },
  {
   "cell_type": "markdown",
   "metadata": {},
   "source": [
    "Very skewed scores. "
   ]
  },
  {
   "cell_type": "code",
   "execution_count": 34,
   "metadata": {
    "collapsed": false
   },
   "outputs": [
    {
     "data": {
      "image/png": "[encoded data removed]",
      "text/plain": [
       "<matplotlib.figure.Figure at 0xb7896d0>"
      ]
     },
     "metadata": {},
     "output_type": "display_data"
    }
   ],
   "source": [
    "#groupby scores and count stories. check what is the most common score for a story\n",
    "score_chart = df['id'].groupby(df['score']).count().plot(kind ='bar',title='Score for story')\n",
    "score_chart.set_xlabel('Score')\n",
    "score_chart.set_ylabel('Number of stories')\n",
    "fig2 = score_chart.get_figure()\n",
    "fig2.savefig('Score_stories.png')"
   ]
  },
  {
   "cell_type": "code",
   "execution_count": 39,
   "metadata": {
    "collapsed": false
   },
   "outputs": [
    {
     "name": "stdout",
     "output_type": "stream",
     "text": [
      "\n",
      "\n",
      "Top 5 Authors base on mean score: by\n",
      "wwwarsame          847.0\n",
      "disappointeddev    679.0\n",
      "conroy             592.0\n",
      "tastyface          558.0\n",
      "roflc0ptic         407.0\n",
      "Name: score, dtype: float64\n",
      "\n",
      "\n"
     ]
    }
   ],
   "source": [
    "#which authors consistently get on the front page\n",
    "average_score = df['score'].groupby(df['by']).mean()\n",
    "print \"\\n\"\n",
    "print 'Top 5 Authors base on mean score:' , average_score.sort_values(ascending = False).head(5) #top 5 author with highest score\n",
    "print \"\\n\""
   ]
  },
  {
   "cell_type": "markdown",
   "metadata": {},
   "source": [
    "# Text analysis using Naive Bayes"
   ]
  },
  {
   "cell_type": "code",
   "execution_count": 10,
   "metadata": {
    "collapsed": false
   },
   "outputs": [],
   "source": [
    "#ngram text analysis on 10000 text. \n",
    "from sklearn.feature_extraction.text import CountVectorizer\n",
    "\n",
    "CV = CountVectorizer(ngram_range=(1,2))\n",
    "df_text = df[['score', 'text']].copy()\n",
    "CV.fit(df_text['text'])\n",
    "X = CV.transform(df_text['text'])\n",
    "Y = df_text['score']"
   ]
  },
  {
   "cell_type": "code",
   "execution_count": 11,
   "metadata": {
    "collapsed": false
   },
   "outputs": [
    {
     "ename": "ImportError",
     "evalue": "No module named model_selection",
     "output_type": "error",
     "traceback": [
      "\u001b[1;31m---------------------------------------------------------------------------\u001b[0m",
      "\u001b[1;31mImportError\u001b[0m                               Traceback (most recent call last)",
      "\u001b[1;32m<ipython-input-11-6fd53feb85f7>\u001b[0m in \u001b[0;36m<module>\u001b[1;34m()\u001b[0m\n\u001b[1;32m----> 1\u001b[1;33m \u001b[1;32mfrom\u001b[0m \u001b[0msklearn\u001b[0m\u001b[1;33m.\u001b[0m\u001b[0mmodel_selection\u001b[0m \u001b[1;32mimport\u001b[0m \u001b[0mtrain_test_split\u001b[0m\u001b[1;33m\u001b[0m\u001b[0m\n\u001b[0m\u001b[0;32m      2\u001b[0m \u001b[0mxtrain\u001b[0m\u001b[1;33m,\u001b[0m \u001b[0mxtest\u001b[0m\u001b[1;33m,\u001b[0m \u001b[0mytrain\u001b[0m\u001b[1;33m,\u001b[0m \u001b[0mytest\u001b[0m \u001b[1;33m=\u001b[0m \u001b[0mtrain_test_split\u001b[0m\u001b[1;33m(\u001b[0m\u001b[0mX\u001b[0m\u001b[1;33m,\u001b[0m\u001b[0mY\u001b[0m\u001b[1;33m,\u001b[0m \u001b[0mrandom_state\u001b[0m \u001b[1;33m=\u001b[0m\u001b[1;36m3\u001b[0m\u001b[1;33m)\u001b[0m\u001b[1;33m\u001b[0m\u001b[0m\n\u001b[0;32m      3\u001b[0m \u001b[1;33m\u001b[0m\u001b[0m\n\u001b[0;32m      4\u001b[0m \u001b[1;32mdef\u001b[0m \u001b[0maccuracy_report\u001b[0m\u001b[1;33m(\u001b[0m\u001b[0m_clf\u001b[0m\u001b[1;33m)\u001b[0m\u001b[1;33m:\u001b[0m\u001b[1;33m\u001b[0m\u001b[0m\n\u001b[0;32m      5\u001b[0m     \u001b[0mtraining_accuracy\u001b[0m \u001b[1;33m=\u001b[0m \u001b[0m_clf\u001b[0m\u001b[1;33m.\u001b[0m\u001b[0mscore\u001b[0m\u001b[1;33m(\u001b[0m\u001b[0mxtrain\u001b[0m\u001b[1;33m,\u001b[0m \u001b[0mytrain\u001b[0m\u001b[1;33m)\u001b[0m\u001b[1;33m\u001b[0m\u001b[0m\n",
      "\u001b[1;31mImportError\u001b[0m: No module named model_selection"
     ]
    }
   ],
   "source": [
    "from sklearn.model_selection import train_test_split\n",
    "xtrain, xtest, ytrain, ytest = train_test_split(X,Y, random_state =3)\n",
    "\n",
    "def accuracy_report(_clf):\n",
    "    training_accuracy = _clf.score(xtrain, ytrain)\n",
    "    test_accuracy = _clf.score(xtest, ytest)\n",
    "    print \"Accuracy on test data: %0.2f%%\" % (100 * test_accuracy)\n",
    "    print \"Accuracy on training data: %0.2f%%\" % (100 * training_accuracy)\n",
    "\n",
    "print '===Naive Bayes: Feature = text; Target = score.===\\n'\n",
    "\n",
    "\n",
    "from sklearn.naive_bayes import MultinomialNB\n",
    "print \"MultinomialNB:\"\n",
    "clf_m = MultinomialNB().fit(xtrain, ytrain)\n",
    "accuracy_report(clf_m)\n",
    "\n",
    "print \"\\n\"\n",
    "\n",
    "from sklearn.naive_bayes import BernoulliNB\n",
    "print \"BernoulliNB:\"\n",
    "clf_b = BernoulliNB().fit(xtrain, ytrain)\n",
    "accuracy_report(clf_b)\n",
    "\n",
    "print \"\\n\"\n",
    "\n",
    "from sklearn.linear_model import LogisticRegression\n",
    "print \"Logistic Regression:\"\n",
    "clf_lr = LogisticRegression().fit(xtrain, ytrain)\n",
    "accuracy_report(clf_lr)\n",
    "\n",
    "\n",
    "#find the most common words among highest score."
   ]
  },
  {
   "cell_type": "markdown",
   "metadata": {},
   "source": [
    "# KNN"
   ]
  },
  {
   "cell_type": "code",
   "execution_count": null,
   "metadata": {
    "collapsed": true
   },
   "outputs": [],
   "source": [
    "from sklearn.neighbors import KNeighborsClassifier\n",
    "from sklearn import metrics\n",
    "import numpy as np\n",
    "print df.info()\n",
    "\n",
    "X = df[[dead', 'descendants', 'post_hour','post_day', 'text_length']]\n",
    "y = np.asarray(df.score, dtype ='|S6')\n",
    "\n",
    "\n",
    "knn = KNeighborsClassifier(n_neighbors=5)\n",
    "knn.fit(X,y)\n",
    "print knn.predict([[1,0,0,0,1,10,4]])"
   ]
  },
  {
   "cell_type": "markdown",
   "metadata": {},
   "source": [
    "# KFOLD"
   ]
  },
  {
   "cell_type": "code",
   "execution_count": null,
   "metadata": {
    "collapsed": true
   },
   "outputs": [],
   "source": [
    "from sklearn.model_selection import KFold"
   ]
  }
 ],
 "metadata": {
  "anaconda-cloud": {},
  "kernelspec": {
   "display_name": "Python [Root]",
   "language": "python",
   "name": "Python [Root]"
  },
  "language_info": {
   "codemirror_mode": {
    "name": "ipython",
    "version": 2
   },
   "file_extension": ".py",
   "mimetype": "text/x-python",
   "name": "python",
   "nbconvert_exporter": "python",
   "pygments_lexer": "ipython2",
   "version": "2.7.12"
  }
 },
 "nbformat": 4,
 "nbformat_minor": 1
}
